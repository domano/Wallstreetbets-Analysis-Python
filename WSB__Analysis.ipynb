{
  "nbformat": 4,
  "nbformat_minor": 0,
  "metadata": {
    "colab": {
      "name": "WSB _Analysis.ipynb",
      "provenance": [],
      "authorship_tag": "ABX9TyOhnFsr3MMaBnVBZokJTujr",
      "include_colab_link": true
    },
    "kernelspec": {
      "name": "python3",
      "display_name": "Python 3"
    }
  },
  "cells": [
    {
      "cell_type": "markdown",
      "metadata": {
        "id": "view-in-github",
        "colab_type": "text"
      },
      "source": [
        "<a href=\"https://colab.research.google.com/github/r1marcus/Wallstreetbets-Analysis-Python/blob/main/WSB__Analysis.ipynb\" target=\"_parent\"><img src=\"https://colab.research.google.com/assets/colab-badge.svg\" alt=\"Open In Colab\"/></a>"
      ]
    },
    {
      "cell_type": "markdown",
      "metadata": {
        "id": "CwwtiCyKaG2d"
      },
      "source": [
        "# Analyse WSB Notebook\r\n",
        "\r\n",
        "Please read every comment to change it for your purpose"
      ]
    },
    {
      "cell_type": "code",
      "metadata": {
        "id": "K63pTqJvVS1q"
      },
      "source": [
        "!pip install praw\r\n"
      ],
      "execution_count": null,
      "outputs": []
    },
    {
      "cell_type": "markdown",
      "metadata": {
        "id": "X3NSrA53OIkd"
      },
      "source": [
        "# Basic parameter"
      ]
    },
    {
      "cell_type": "code",
      "metadata": {
        "id": "3lMz_8hrIaXz"
      },
      "source": [
        "#which post do you want to analyse?\r\n",
        "url = \"https://www.reddit.com/r/wallstreetbets/comments/lhumfo/what_are_your_moves_tomorrow_february_12_2021/\"\r\n",
        "#how depth do you want to analyse? (The higher the number, the more it analyses, but this also takes longer.)\r\n",
        "depth=10\r\n",
        "#which reddit you want to analyse?\r\n",
        "red=\"wallstreetbets\"\r\n",
        "#how many post you want to analyse?\r\n",
        "post_number=500\r\n",
        "#how many stocks you want to plot?\r\n",
        "plot_number=6\r\n",
        "\r\n"
      ],
      "execution_count": null,
      "outputs": []
    },
    {
      "cell_type": "code",
      "metadata": {
        "id": "XOWmnNppVVbT"
      },
      "source": [
        "import praw\r\n",
        "from collections import Counter\r\n",
        "import re\r\n",
        "from praw.models import MoreComments\r\n",
        "\r\n",
        "import matplotlib.pyplot as plt; plt.rcdefaults()\r\n",
        "import numpy as np\r\n",
        "import matplotlib.pyplot as plt"
      ],
      "execution_count": null,
      "outputs": []
    },
    {
      "cell_type": "markdown",
      "metadata": {
        "id": "jThck2GZZ1PQ"
      },
      "source": [
        "As always, you need to begin by creating an instance of Reddit:"
      ]
    },
    {
      "cell_type": "code",
      "metadata": {
        "id": "2E5FkYJLVZ8R"
      },
      "source": [
        "reddit = praw.Reddit(\r\n",
        "    client_id=\"clientid\",\r\n",
        "    client_secret=\"secret\",\r\n",
        "    password=\"yourpassword\",\r\n",
        "    user_agent=\"agent name\",\r\n",
        "    username=\"yourusername\",\r\n",
        "    check_for_async=False\r\n",
        ")"
      ],
      "execution_count": null,
      "outputs": []
    },
    {
      "cell_type": "code",
      "metadata": {
        "id": "i6Zk_Pr6Vggo"
      },
      "source": [
        "'''\r\n",
        "subreddit = reddit.subreddit(\"wallstreetbets\")\r\n",
        "substring = \"Daily\"\r\n",
        "a=0\r\n",
        "for submission in subreddit.hot(limit=25):\r\n",
        "    #print(submission.title)\r\n",
        "    if substring in submission.title:\r\n",
        "        print(submission.title)\r\n",
        "        print (submission.id)\r\n",
        "        id = submission.id\r\n",
        "\r\n",
        "'''        \r\n",
        "\r\n",
        "submission = reddit.submission(url=url)\r\n",
        "#submission = reddit.submission(id=id)\r\n",
        "\r\n",
        "comments=\"\"\r\n",
        "\r\n",
        "\r\n",
        "\r\n",
        "a=0   \r\n",
        "submission.comments.replace_more(limit=depth)\r\n",
        "for top_level_comment in submission.comments:\r\n",
        "    comments+= top_level_comment.body\r\n",
        "    a=a+1\r\n",
        "    \r\n",
        "    \r\n",
        "    \r\n",
        "    \r\n",
        "counts = Counter(comments)\r\n",
        "print(\"you analysed\"+str(a)+\"comments\")\r\n",
        "comments = comments.lower()\r\n",
        "comments = re.sub(r\"[^a-zA-Z0-9]+\", ' ', comments)\r\n",
        "\r\n",
        "#filtert words:\r\n",
        "swords=[\"re\",\"ll\",\"market\",\"going\",\"holding\",\"day\",\"back\",\"weed\",\"money\",\"wsb\",\"m\",\"today\",\"calls\",\"puts\",\"fuck\",\"puts\",\"like\",\"bought\",\"go\",\"get\",\"stock\",\"stocks\",\"shares\",\"fucking\",\"stock\",\"buy\",\"tomorrow\",\"i\", \"me\", \"my\", \"myself\", \"we\", \"our\", \"ours\", \"ourselves\", \"you\", \"your\", \"yours\", \"yourself\", \"yourselves\", \"he\", \"him\", \"his\", \"himself\", \"she\", \"her\", \"hers\", \"herself\", \"it\", \"its\", \"itself\", \"they\", \"them\", \"their\", \"theirs\", \"themselves\", \"what\", \"which\", \"who\", \"whom\", \"this\", \"that\", \"these\", \"those\", \"am\", \"is\", \"are\", \"was\", \"were\", \"be\", \"been\", \"being\", \"have\", \"has\", \"had\", \"having\", \"do\", \"does\", \"did\", \"doing\", \"a\", \"an\", \"the\", \"and\", \"but\", \"if\", \"or\", \"because\", \"as\", \"until\", \"while\", \"of\", \"at\", \"by\", \"for\", \"with\", \"about\", \"against\", \"between\", \"into\", \"through\", \"during\", \"before\", \"after\", \"above\", \"below\", \"to\", \"from\", \"up\", \"down\", \"in\", \"out\", \"on\", \"off\", \"over\", \"under\", \"again\", \"further\", \"then\", \"once\", \"here\", \"there\", \"when\", \"where\", \"why\", \"how\", \"all\", \"any\", \"both\", \"each\", \"few\", \"more\", \"most\", \"other\", \"some\", \"such\", \"no\", \"nor\", \"not\", \"only\", \"own\", \"same\", \"so\", \"than\", \"too\", \"very\", \"s\", \"t\", \"can\", \"will\", \"just\", \"don\", \"should\", \"now\"]\r\n",
        "wordlist = [word for word in re.split(\"\\W+\",comments) if word.lower() not in swords]\r\n",
        "wordlist = [item for item in wordlist if not item.isdigit()]\r\n",
        "#replace slang\r\n",
        "wordlist= [w.replace(\"mouse\", \"dis\") for w in wordlist]\r\n",
        "\r\n",
        "wordfreq = []\r\n",
        "for w in wordlist:\r\n",
        "    wordfreq.append(wordlist.count(w))\r\n",
        "\r\n",
        "dictal={k:v for k,v in zip(wordlist, wordfreq)}\r\n",
        "sort=sorted(dictal.items(), key=lambda item: item[1])\r\n",
        "data=sort[::-1]\r\n",
        "print(data)\r\n",
        "\r\n"
      ],
      "execution_count": null,
      "outputs": []
    },
    {
      "cell_type": "markdown",
      "metadata": {
        "id": "2h_pvHLdZi-q"
      },
      "source": [
        "# plot a barchart"
      ]
    },
    {
      "cell_type": "code",
      "metadata": {
        "id": "WKiDZoVBY0-y"
      },
      "source": [
        "objects = []\r\n",
        "performance = []\r\n",
        "\r\n",
        "\r\n",
        "for x in range(plot_number):\r\n",
        "    objects.append(data[x][0])\r\n",
        "    performance.append(data[x][1])\r\n",
        "\r\n",
        "y_pos = np.arange(len(objects))\r\n",
        "plt.barh(y_pos, performance, align='center', alpha=0.5)\r\n",
        "plt.yticks(y_pos, objects)\r\n",
        "plt.ylabel('Stonks')\r\n",
        "plt.xlabel('Erwähnungen')\r\n",
        "plt.title('Über was wird im Daily ')\r\n",
        "\r\n",
        "plt.show()"
      ],
      "execution_count": null,
      "outputs": []
    },
    {
      "cell_type": "markdown",
      "metadata": {
        "id": "FDygwyljZGLE"
      },
      "source": [
        "# If you want analyse the whole reddit:\r\n",
        "\r\n"
      ]
    },
    {
      "cell_type": "code",
      "metadata": {
        "id": "FJDA3t4zY6FN"
      },
      "source": [
        "subreddit = reddit.subreddit(red)\r\n",
        "dict =        { \"title\":[],\r\n",
        "                \"subreddit\":[],\r\n",
        "                \"score\":[], \r\n",
        "                \"id\":[], \r\n",
        "                \"url\":[], \r\n",
        "                \"comms_num\": [], \r\n",
        "                \"created\": [], \r\n",
        "                \"body\":[]}\r\n",
        "#how many post do you want to scan\r\n",
        "test=subreddit.hot(limit=post_number)\r\n",
        "\r\n",
        "for submission in test:\r\n",
        "    dict[\"title\"].append(submission.title)\r\n",
        "    dict['subreddit'].append(submission.subreddit)\r\n",
        "    dict[\"score\"].append(submission.score)\r\n",
        "    dict[\"id\"].append(submission.id)\r\n",
        "    dict[\"url\"].append(submission.url)\r\n",
        "    dict[\"comms_num\"].append(submission.num_comments)\r\n",
        "    dict[\"created\"].append(submission.created)\r\n",
        "    dict[\"body\"].append(submission.selftext)\r\n",
        "    \r\n",
        "all = \"\"\r\n",
        "for sentence in dict[\"title\"]:\r\n",
        "    all += sentence\r\n",
        "\r\n",
        "counts = Counter(all)\r\n",
        "all = all.lower()\r\n",
        "all = re.sub(r\"[^a-zA-Z0-9]+\", ' ', all)\r\n",
        "\r\n",
        "swords=[\"i\", \"me\", \"my\", \"myself\", \"we\", \"our\", \"ours\", \"ourselves\", \"you\", \"your\", \"yours\", \"yourself\", \"yourselves\", \"he\", \"him\", \"his\", \"himself\", \"she\", \"her\", \"hers\", \"herself\", \"it\", \"its\", \"itself\", \"they\", \"them\", \"their\", \"theirs\", \"themselves\", \"what\", \"which\", \"who\", \"whom\", \"this\", \"that\", \"these\", \"those\", \"am\", \"is\", \"are\", \"was\", \"were\", \"be\", \"been\", \"being\", \"have\", \"has\", \"had\", \"having\", \"do\", \"does\", \"did\", \"doing\", \"a\", \"an\", \"the\", \"and\", \"but\", \"if\", \"or\", \"because\", \"as\", \"until\", \"while\", \"of\", \"at\", \"by\", \"for\", \"with\", \"about\", \"against\", \"between\", \"into\", \"through\", \"during\", \"before\", \"after\", \"above\", \"below\", \"to\", \"from\", \"up\", \"down\", \"in\", \"out\", \"on\", \"off\", \"over\", \"under\", \"again\", \"further\", \"then\", \"once\", \"here\", \"there\", \"when\", \"where\", \"why\", \"how\", \"all\", \"any\", \"both\", \"each\", \"few\", \"more\", \"most\", \"other\", \"some\", \"such\", \"no\", \"nor\", \"not\", \"only\", \"own\", \"same\", \"so\", \"than\", \"too\", \"very\", \"s\", \"t\", \"can\", \"will\", \"just\", \"don\", \"should\", \"now\"]\r\n",
        "wordlist = [word for word in re.split(\"\\W+\",all) if word.lower() not in swords]\r\n",
        "\r\n",
        "\r\n",
        "wordfreq = []\r\n",
        "for w in wordlist:\r\n",
        "    wordfreq.append(wordlist.count(w))\r\n",
        "\r\n",
        "dictal={k:v for k,v in zip(wordlist, wordfreq)}\r\n",
        "sort=sorted(dictal.items(), key=lambda item: item[1])\r\n",
        "print(sort[::-1])\r\n",
        "data=sort[::-1]\r\n",
        "\r\n",
        "\r\n",
        "objects = []\r\n",
        "performance = []\r\n",
        "\r\n",
        "\r\n",
        "for x in range(plot_number):\r\n",
        "    objects.append(data[x][0])\r\n",
        "    performance.append(data[x][1])\r\n",
        "\r\n",
        "y_pos = np.arange(len(objects))\r\n",
        "plt.barh(y_pos, performance, align='center', alpha=0.5)\r\n",
        "plt.yticks(y_pos, objects)\r\n",
        "plt.ylabel('Stonks')\r\n",
        "plt.xlabel('Erwähnungen')\r\n",
        "plt.title('Über was wird im Daily ')\r\n",
        "\r\n",
        "plt.show()"
      ],
      "execution_count": null,
      "outputs": []
    }
  ]
}